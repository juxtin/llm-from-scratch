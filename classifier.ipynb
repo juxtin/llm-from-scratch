{
 "cells": [
  {
   "cell_type": "markdown",
   "id": "e2a07c6d",
   "metadata": {},
   "source": [
    "# Fine tuning for spam classification\n",
    "\n",
    "This follows chapter 6 of the book [Build a Large Language Model (From Scratch)](https://www.manning.com/books/build-a-large-language-model-from-scratch)."
   ]
  },
  {
   "cell_type": "code",
   "execution_count": null,
   "id": "ed2f9849",
   "metadata": {},
   "outputs": [],
   "source": [
    "import import_ipynb\n",
    "import openai # type:ignore\n",
    "import gpt # type:ignore\n",
    "import pandas as pd\n",
    "import urllib.request\n",
    "import ssl\n",
    "import zipfile\n",
    "import os\n",
    "from pathlib import Path\n",
    "import torch\n",
    "from torch.utils.data import Dataset, DataLoader\n",
    "import tiktoken"
   ]
  },
  {
   "cell_type": "markdown",
   "id": "7a8a298b",
   "metadata": {},
   "source": [
    "## Download and preprocess the UCI spam data\n",
    "\n",
    "The fine folks at the University of California at Irvine have provided a nice little data set for SMS spam.\n",
    "Let's download that and save it in a convenient CSV format."
   ]
  },
  {
   "cell_type": "code",
   "execution_count": 30,
   "id": "4f5452b1",
   "metadata": {},
   "outputs": [],
   "source": [
    "url = \"https://archive.ics.uci.edu/static/public/228/sms+spam+collection.zip\"\n",
    "zip_path = \"sms_spam_collection.zip\"\n",
    "extracted_path = \"sms_spam_collection\"\n",
    "data_file_path = Path(extracted_path) / \"SMSSpamCollection.tsv\"\n",
    "\n",
    "# NOTE: on 6/21/25, the UCI archive server is unreachable. I downloaded this file\n",
    "# manually from a mirror.\n",
    "def download_and_unzip_spam_data(url, zip_path, extracted_path, data_file_path):\n",
    "    if data_file_path.exists():\n",
    "        print(f\"{data_file_path} already exists. Skipping download and extraction.\")\n",
    "        return\n",
    "     \n",
    "    ssl_context = ssl._create_unverified_context()\n",
    "\n",
    "    with urllib.request.urlopen(url, context=ssl_context) as response:\n",
    "        with open(zip_path, \"wb\") as out_file:\n",
    "            out_file.write(response.read())\n",
    "    \n",
    "    with zipfile.ZipFile(zip_path, \"r\") as zip_ref:\n",
    "        zip_ref.extractall(extracted_path)\n",
    "\n",
    "    original_file_path = Path(extracted_path) / \"SMSSpamCollection\"\n",
    "    os.rename(original_file_path, data_file_path)    \n",
    "    print(f\"File downloaded and saved as {data_file_path}\")\n"
   ]
  },
  {
   "cell_type": "markdown",
   "id": "04b96f86",
   "metadata": {},
   "source": [
    "The data set contains 4825 ham messages and only 747 spam messages. Since we want an equal number of both, we'll have to take 747 ham messages at random and discard the rest."
   ]
  },
  {
   "cell_type": "code",
   "execution_count": 31,
   "id": "9394e3a2",
   "metadata": {},
   "outputs": [],
   "source": [
    "def create_balanced_dataset(df):\n",
    "    df = pd.read_csv(data_file_path, sep=\"\\t\", header=None, names=[\"Label\", \"Text\"])\n",
    "    num_spam = df[df[\"Label\"] == \"spam\"].shape[0]\n",
    "    ham_subset = df[df[\"Label\"] == \"ham\"].sample(num_spam, random_state=123)\n",
    "    balanced_df = pd.concat([ham_subset, df[df[\"Label\"] == \"spam\"]])\n",
    "    return balanced_df"
   ]
  },
  {
   "cell_type": "markdown",
   "id": "fd91b9c5",
   "metadata": {},
   "source": [
    "Now we want to create the following splits:\n",
    "- 70% for training\n",
    "- 10% for validation\n",
    "- 20% for testing"
   ]
  },
  {
   "cell_type": "code",
   "execution_count": 32,
   "id": "3632c009",
   "metadata": {},
   "outputs": [],
   "source": [
    "def random_split(df, train_frac, validation_frac):\n",
    "    df = df.sample(frac=1, random_state=123).reset_index(drop=True)\n",
    "\n",
    "    train_end = int(len(df) * train_frac)\n",
    "    validation_end = train_end + int(len(df) * validation_frac)\n",
    "\n",
    "    train_df = df[:train_end]\n",
    "    validation_df = df[train_end:validation_end]\n",
    "    test_df = df[validation_end:]\n",
    "\n",
    "    return train_df, validation_df, test_df"
   ]
  },
  {
   "cell_type": "code",
   "execution_count": 33,
   "id": "102c2b0f",
   "metadata": {},
   "outputs": [],
   "source": [
    "def save_csv():\n",
    "    download_and_unzip_spam_data(url, zip_path, extracted_path, data_file_path)\n",
    "    df = pd.read_csv(data_file_path, sep=\"\\t\", header=None, names=[\"Label\", \"Text\"])\n",
    "    balanced_df = create_balanced_dataset(df)\n",
    "    balanced_df[\"Label\"] = balanced_df[\"Label\"].map({\"ham\": 0, \"spam\": 1})\n",
    "    train_df, validation_df, test_df = random_split(balanced_df, 0.7, 0.1)\n",
    "    train_df.to_csv(\"train.csv\", index=None) # type:ignore\n",
    "    validation_df.to_csv(\"validation.csv\", index=None) # type:ignore\n",
    "    test_df.to_csv(\"test.csv\", index=None) # type:ignore\n",
    "\n",
    "# Uncomment if you haven't saved this yet\n",
    "# save_csv()"
   ]
  },
  {
   "cell_type": "markdown",
   "id": "56f8b45d",
   "metadata": {},
   "source": [
    "## SpamDataset\n",
    "\n",
    "This class:\n",
    "1. Pre-tokenizes the texts from the dataset\n",
    "2. Truncates any sequences that are longer than the maximum length (or the longest text, if no maximum is set).\n",
    "3. Pads any sequences shorter than the max length."
   ]
  },
  {
   "cell_type": "code",
   "execution_count": 38,
   "id": "e9440ac4",
   "metadata": {},
   "outputs": [],
   "source": [
    "class SpamDataset(Dataset):\n",
    "    def __init__(self, csv_file: Path, tokenizer: tiktoken.Encoding, max_length:int|None=None, pad_token_id:int=50256):\n",
    "        self.data = pd.read_csv(csv_file)\n",
    "\n",
    "        # Pre-tokenize texts\n",
    "        self.encoded_texts = [\n",
    "            tokenizer.encode(text) for text in self.data[\"Text\"]\n",
    "        ]\n",
    "\n",
    "        if max_length is None:\n",
    "            self.max_length = self._longest_encoded_length()\n",
    "        else:\n",
    "            self.max_length = max_length\n",
    "        \n",
    "            # truncate sequences that are longer than max_length\n",
    "            self.encoded_texts = [\n",
    "                encoded_text[:self.max_length]\n",
    "                for encoded_text in self.encoded_texts\n",
    "            ]\n",
    "\n",
    "        # pad the sequences\n",
    "        self.encoded_texts = [\n",
    "            encoded_text + [pad_token_id] * (self.max_length - len(encoded_text))\n",
    "            for encoded_text in self.encoded_texts\n",
    "        ]\n",
    "\n",
    "    def __getitem__(self, idx):\n",
    "        encoded = self.encoded_texts[idx]\n",
    "        label = self.data.iloc[idx][\"Label\"]\n",
    "        return (\n",
    "            torch.tensor(encoded, dtype=torch.long),\n",
    "            torch.tensor(label, dtype=torch.long)\n",
    "        )\n",
    "\n",
    "    def __len__(self):\n",
    "        return len(self.data)\n",
    "\n",
    "    def _longest_encoded_length(self):\n",
    "        return max([len(txt) for txt in self.encoded_texts])"
   ]
  },
  {
   "cell_type": "code",
   "execution_count": null,
   "id": "4d84faf1",
   "metadata": {},
   "outputs": [
    {
     "name": "stdout",
     "output_type": "stream",
     "text": [
      "120\n"
     ]
    }
   ],
   "source": [
    "tokenizer = tiktoken.get_encoding(\"gpt2\")\n",
    "train_dataset = SpamDataset(\n",
    "    csv_file=Path(\"train.csv\"),\n",
    "    tokenizer=tokenizer,\n",
    ")\n",
    "max_length = train_dataset.max_length\n",
    "val_dataset = SpamDataset(\n",
    "    csv_file=Path(\"validation.csv\"),\n",
    "    max_length=max_length,\n",
    "    tokenizer=tokenizer,\n",
    ")\n",
    "test_dataset = SpamDataset(\n",
    "    csv_file=Path(\"test.csv\"),\n",
    "    max_length=max_length,\n",
    "    tokenizer=tokenizer,\n",
    ")"
   ]
  },
  {
   "cell_type": "code",
   "execution_count": null,
   "id": "31f364f2",
   "metadata": {},
   "outputs": [],
   "source": [
    "num_workers = 0\n",
    "batch_size = 8\n",
    "\n",
    "gpt.manual_seed(123)\n",
    "\n",
    "train_loader = DataLoader(\n",
    "    dataset=train_dataset,\n",
    "    batch_size=batch_size,\n",
    "    shuffle=True,\n",
    "    num_workers=num_workers,\n",
    "    drop_last=True,\n",
    ")\n",
    "\n",
    "val_loader = DataLoader(\n",
    "    dataset=val_dataset,\n",
    "    batch_size=batch_size,\n",
    "    shuffle=True,\n",
    "    num_workers=num_workers,\n",
    "    drop_last=True,\n",
    ")\n",
    "\n",
    "test_loader = DataLoader(\n",
    "    dataset=test_dataset,\n",
    "    batch_size=batch_size,\n",
    "    shuffle=True,\n",
    "    num_workers=num_workers,\n",
    "    drop_last=True,\n",
    ")\n",
    "\n",
    "# Note: I think drop_last is true because the last batch won't have enough messages in it,\n",
    "# not because the last message might be short."
   ]
  }
 ],
 "metadata": {
  "kernelspec": {
   "display_name": ".venv",
   "language": "python",
   "name": "python3"
  },
  "language_info": {
   "codemirror_mode": {
    "name": "ipython",
    "version": 3
   },
   "file_extension": ".py",
   "mimetype": "text/x-python",
   "name": "python",
   "nbconvert_exporter": "python",
   "pygments_lexer": "ipython3",
   "version": "3.12.3"
  }
 },
 "nbformat": 4,
 "nbformat_minor": 5
}
