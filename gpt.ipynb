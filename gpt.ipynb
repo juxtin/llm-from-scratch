{
 "cells": [
  {
   "cell_type": "markdown",
   "id": "9053ed3e",
   "metadata": {},
   "source": [
    "# LLM From Scratch\n",
    "\n",
    "This is a notebook I'm using to re-create the GPT-2 style architecture from the book \"Build a Large Language Model (From Scratch).\"\n",
    "I'm trying to do as much as possible from memory, other than having some notes on what classes and methods to implement.\n",
    "\n",
    "**Required classes:**\n",
    "1. LayerNorm\n",
    "2. GELU\n",
    "3. FeedForward\n",
    "4. MultiHeadAttention\n",
    "5. TransformerBlock\n",
    "6. GPT_CONFIG_124M\n",
    "7. GPTModel"
   ]
  },
  {
   "cell_type": "code",
   "execution_count": 2,
   "id": "63992f95",
   "metadata": {},
   "outputs": [],
   "source": [
    "# Import torch and nn.Module for class definitions\n",
    "import torch\n",
    "import torch.nn as nn"
   ]
  },
  {
   "cell_type": "markdown",
   "id": "de899cae",
   "metadata": {},
   "source": [
    "## 1. LayerNorm\n",
    "To be implemented."
   ]
  },
  {
   "cell_type": "code",
   "execution_count": null,
   "id": "46c343c8",
   "metadata": {},
   "outputs": [],
   "source": [
    "class LayerNorm:\n",
    "    def __init__(self):\n",
    "        pass"
   ]
  },
  {
   "cell_type": "markdown",
   "id": "42a8ea67",
   "metadata": {},
   "source": [
    "## 2. GELU\n",
    "To be implemented."
   ]
  },
  {
   "cell_type": "code",
   "execution_count": null,
   "id": "6f0b6a57",
   "metadata": {},
   "outputs": [],
   "source": [
    "class GELU:\n",
    "    def __init__(self):\n",
    "        pass"
   ]
  },
  {
   "cell_type": "markdown",
   "id": "cf5d86c8",
   "metadata": {},
   "source": [
    "## 3. FeedForward\n",
    "To be implemented."
   ]
  },
  {
   "cell_type": "code",
   "execution_count": null,
   "id": "5ee38523",
   "metadata": {},
   "outputs": [],
   "source": [
    "class FeedForward:\n",
    "    def __init__(self):\n",
    "        pass"
   ]
  },
  {
   "cell_type": "markdown",
   "id": "5b36cd1c",
   "metadata": {},
   "source": [
    "## 4. MultiHeadAttention\n",
    "To be implemented."
   ]
  },
  {
   "cell_type": "code",
   "execution_count": null,
   "id": "bf643cdf",
   "metadata": {},
   "outputs": [],
   "source": [
    "class MultiHeadAttention:\n",
    "    def __init__(self):\n",
    "        pass"
   ]
  },
  {
   "cell_type": "markdown",
   "id": "2047eee4",
   "metadata": {},
   "source": [
    "## 5. TransformerBlock\n",
    "To be implemented."
   ]
  },
  {
   "cell_type": "code",
   "execution_count": null,
   "id": "c3fa3ada",
   "metadata": {},
   "outputs": [],
   "source": [
    "class TransformerBlock:\n",
    "    def __init__(self):\n",
    "        pass"
   ]
  },
  {
   "cell_type": "markdown",
   "id": "e6d1c13b",
   "metadata": {},
   "source": [
    "## 6. GPT_CONFIG_124M\n",
    "The configuration paramters for our GPT-2 implementation. These come directly from the book."
   ]
  },
  {
   "cell_type": "code",
   "execution_count": null,
   "id": "f3da9131",
   "metadata": {},
   "outputs": [],
   "source": [
    "from typing import TypedDict\n",
    "\n",
    "class GPTConfigDict(TypedDict):\n",
    "    vocab_size: int        # the number of tokens in the vocabulary\n",
    "    context_length: int    # the maximum number of token vectors to consider at once\n",
    "    emb_dim: int           # the width of the token vectors\n",
    "    n_heads: int           # the number of heads to use for multi-head attention\n",
    "    n_layers: int          # the number of transformer layers to use\n",
    "    drop_rate: float       # the dropout percentage rate\n",
    "    qkv_bias: bool         # whether to use the bias setting for the KQV matrices.\n",
    "\n",
    "GPT_CONFIG_124M = {\n",
    "    \"vocab_size\": 50257,\n",
    "    \"context_length\": 1024,\n",
    "    \"emb_dim\": 768,\n",
    "    \"n_heads\": 12,\n",
    "    \"n_layers\": 12,\n",
    "    \"drop_rate\": 0.1,\n",
    "    \"qkv_bias\": False,\n",
    "}"
   ]
  },
  {
   "cell_type": "markdown",
   "id": "2ec0224e",
   "metadata": {},
   "source": [
    "## 7. GPTModel\n",
    "Top-level GPT-2 model class."
   ]
  },
  {
   "cell_type": "code",
   "execution_count": null,
   "id": "7369c740",
   "metadata": {},
   "outputs": [],
   "source": [
    "class GPTModel(nn.Module):\n",
    "    \"\"\"\n",
    "    Top-level GPT-2 model.\n",
    "    \"\"\"\n",
    "    # cfg: Cfg -> GPTModel\n",
    "    def __init__(self, cfg: GPTConfigDict):\n",
    "        \"\"\"Initialize model with config.\"\"\"\n",
    "        super().__init__()\n",
    "        pass\n",
    "\n",
    "    # in_idx: torch.Tensor -> logits: torch.Tensor\n",
    "    def forward(self, in_idx: torch.Tensor) -> torch.Tensor:\n",
    "        \"\"\"Forward pass: input indices to logits.\"\"\"\n",
    "        pass"
   ]
  }
 ],
 "metadata": {
  "kernelspec": {
   "display_name": "myenv",
   "language": "python",
   "name": "myenv"
  },
  "language_info": {
   "codemirror_mode": {
    "name": "ipython",
    "version": 3
   },
   "file_extension": ".py",
   "mimetype": "text/x-python",
   "name": "python",
   "nbconvert_exporter": "python",
   "pygments_lexer": "ipython3",
   "version": "3.13.2"
  }
 },
 "nbformat": 4,
 "nbformat_minor": 5
}
