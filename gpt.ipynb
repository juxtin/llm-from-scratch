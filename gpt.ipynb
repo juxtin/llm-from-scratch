{
 "cells": [
  {
   "cell_type": "markdown",
   "id": "9053ed3e",
   "metadata": {},
   "source": [
    "# LLM From Scratch\n",
    "\n",
    "This is a notebook I'm using to re-create the GPT-2 style architecture from the book \"Build a Large Language Model (From Scratch).\"\n",
    "I'm trying to do as much as possible from memory, other than having some notes on what classes and methods to implement.\n",
    "\n",
    "**Required classes:**\n",
    "1. LayerNorm\n",
    "2. GELU\n",
    "3. FeedForward\n",
    "4. MultiHeadAttention\n",
    "5. TransformerBlock\n",
    "6. GPT_CONFIG_124M\n",
    "7. GPTModel"
   ]
  },
  {
   "cell_type": "code",
   "execution_count": 2,
   "id": "63992f95",
   "metadata": {},
   "outputs": [],
   "source": [
    "# Import torch and nn.Module for class definitions\n",
    "import torch\n",
    "import torch.nn as nn"
   ]
  },
  {
   "cell_type": "markdown",
   "id": "de899cae",
   "metadata": {},
   "source": [
    "## 1. LayerNorm\n",
    "\n",
    "This class is responsible for layer normalization, which takes place _multiple times_ in the GPT architecture.\n",
    "Its purpose is to keep gradient magnitudes within a certain range, to avoid the problems of vanishing gradients and exploding gradients.\n",
    "The concrete goal is to adjust the outputs to have a mean of zero and a variance of one.\n",
    "\n",
    "To accomplish this, we need two values:\n",
    "- the mean: µ = (x_1 + x_2 + ... + x_n) / n\n",
    "- the variance: v = [(x_1 + µ) + (x_2 + µ) + ... + (x_n + µ)] / µ\n",
    "\n",
    "The normalized vector is then: [(x_1 - µ)/√v, (x_2 - µ)/√v, ..., (x_n - µ)/√v]\n",
    "\n",
    "NOTE: we're dividing by both n and v and we need to make sure we never divide by zero. We know that n (the embedding dimension) will never be zero, but the variance could be. For that reason, we add a miniscule value epsilon to the variance."
   ]
  },
  {
   "cell_type": "code",
   "execution_count": 1,
   "id": "46c343c8",
   "metadata": {},
   "outputs": [],
   "source": [
    "class LayerNorm(nn.Module):\n",
    "    def __init__(self, emb_dim: int):\n",
    "        super().__init__()\n",
    "        self.emb_dim = emb_dim\n",
    "        self.epsilon = 1e-5\n",
    "        self.scale = nn.Parameter(torch.ones(emb_dim))\n",
    "        self.shift = nn.Parameter(torch.zeros(emb_dim))\n",
    "    def forward(self, x: torch.Tensor) -> torch.Tensor:\n",
    "        mean = x.mean(dim=-1, keepdim=True)\n",
    "        variance = x.var(dim=-1, keepdim=True, unbiased=False) + self.epsilon\n",
    "        norm = (x - mean) / torch.sqrt(variance)\n",
    "        return self.scale * norm + self.shift"
   ]
  },
  {
   "cell_type": "markdown",
   "id": "42a8ea67",
   "metadata": {},
   "source": [
    "## 2. GELU\n",
    "\n",
    "GELU, or Gaussian Error Linear Unit, is the activation function we'll be using. It's similar to RELU, but it's differentiable everywhere (even at zero, where RELU has a sharp corner discontinuity). GELU is also slightly negative between -2 and 0, rather than flatly zero like RELU. This provides a richer range of values for the network to train on.\n",
    "\n",
    "Calculating the GELU for real would take us out of closed-form math, so we'll use a very close approximation here instead."
   ]
  },
  {
   "cell_type": "code",
   "execution_count": null,
   "id": "6f0b6a57",
   "metadata": {},
   "outputs": [],
   "source": [
    "class GELU(nn.Module):\n",
    "    def __init__(self):\n",
    "        super().__init__()\n",
    "\n",
    "    def forward(self, x: torch.Tensor) -> torch.Tensor:\n",
    "        return 0.5 * x * (1 + torch.tanh(\n",
    "            torch.sqrt(torch.tensor(2.0 / torch.pi)) * \n",
    "            (x + 0.044715 * torch.pow(x, 3))\n",
    "        ))"
   ]
  },
  {
   "cell_type": "markdown",
   "id": "cf5d86c8",
   "metadata": {},
   "source": [
    "## 3. FeedForward\n",
    "To be implemented."
   ]
  },
  {
   "cell_type": "code",
   "execution_count": null,
   "id": "5ee38523",
   "metadata": {},
   "outputs": [],
   "source": [
    "class FeedForward:\n",
    "    def __init__(self):\n",
    "        pass"
   ]
  },
  {
   "cell_type": "markdown",
   "id": "5b36cd1c",
   "metadata": {},
   "source": [
    "## 4. MultiHeadAttention\n",
    "To be implemented."
   ]
  },
  {
   "cell_type": "code",
   "execution_count": null,
   "id": "bf643cdf",
   "metadata": {},
   "outputs": [],
   "source": [
    "class MultiHeadAttention:\n",
    "    def __init__(self):\n",
    "        pass"
   ]
  },
  {
   "cell_type": "markdown",
   "id": "2047eee4",
   "metadata": {},
   "source": [
    "## 5. TransformerBlock\n",
    "To be implemented."
   ]
  },
  {
   "cell_type": "code",
   "execution_count": null,
   "id": "c3fa3ada",
   "metadata": {},
   "outputs": [],
   "source": [
    "class TransformerBlock:\n",
    "    def __init__(self):\n",
    "        pass"
   ]
  },
  {
   "cell_type": "markdown",
   "id": "e6d1c13b",
   "metadata": {},
   "source": [
    "## 6. GPT_CONFIG_124M\n",
    "The configuration paramters for our GPT-2 implementation. These come directly from the book."
   ]
  },
  {
   "cell_type": "code",
   "execution_count": null,
   "id": "f3da9131",
   "metadata": {},
   "outputs": [],
   "source": [
    "from typing import TypedDict\n",
    "\n",
    "class GPTConfigDict(TypedDict):\n",
    "    vocab_size: int        # the number of tokens in the vocabulary\n",
    "    context_length: int    # the maximum number of token vectors to consider at once\n",
    "    emb_dim: int           # the width of the token vectors\n",
    "    n_heads: int           # the number of heads to use for multi-head attention\n",
    "    n_layers: int          # the number of transformer layers to use\n",
    "    drop_rate: float       # the dropout percentage rate\n",
    "    qkv_bias: bool         # whether to use the bias setting for the KQV matrices.\n",
    "\n",
    "GPT_CONFIG_124M = {\n",
    "    \"vocab_size\": 50257,\n",
    "    \"context_length\": 1024,\n",
    "    \"emb_dim\": 768,\n",
    "    \"n_heads\": 12,\n",
    "    \"n_layers\": 12,\n",
    "    \"drop_rate\": 0.1,\n",
    "    \"qkv_bias\": False,\n",
    "}"
   ]
  },
  {
   "cell_type": "markdown",
   "id": "2ec0224e",
   "metadata": {},
   "source": [
    "## 7. GPTModel\n",
    "Top-level GPT-2 model class."
   ]
  },
  {
   "cell_type": "code",
   "execution_count": null,
   "id": "7369c740",
   "metadata": {},
   "outputs": [],
   "source": [
    "class GPTModel(nn.Module):\n",
    "    \"\"\"\n",
    "    Top-level GPT-2 model.\n",
    "    \"\"\"\n",
    "    # cfg: Cfg -> GPTModel\n",
    "    def __init__(self, cfg: GPTConfigDict):\n",
    "        \"\"\"Initialize model with config.\"\"\"\n",
    "        super().__init__()\n",
    "        pass\n",
    "\n",
    "    # in_idx: torch.Tensor -> logits: torch.Tensor\n",
    "    def forward(self, in_idx: torch.Tensor) -> torch.Tensor:\n",
    "        \"\"\"Forward pass: input indices to logits.\"\"\"\n",
    "        pass"
   ]
  }
 ],
 "metadata": {
  "kernelspec": {
   "display_name": "myenv",
   "language": "python",
   "name": "myenv"
  },
  "language_info": {
   "codemirror_mode": {
    "name": "ipython",
    "version": 3
   },
   "file_extension": ".py",
   "mimetype": "text/x-python",
   "name": "python",
   "nbconvert_exporter": "python",
   "pygments_lexer": "ipython3",
   "version": "3.13.2"
  }
 },
 "nbformat": 4,
 "nbformat_minor": 5
}
